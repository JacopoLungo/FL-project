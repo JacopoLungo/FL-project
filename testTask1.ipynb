{
  "cells": [
    {
      "cell_type": "code",
      "execution_count": null,
      "metadata": {
        "colab": {
          "base_uri": "https://localhost:8080/"
        },
        "id": "YSrzxByAWxp1",
        "outputId": "b6da59e9-85a5-4162-f278-8d41de455dd7"
      },
      "outputs": [
        {
          "name": "stdout",
          "output_type": "stream",
          "text": [
            "Mounted at /content/drive\n"
          ]
        }
      ],
      "source": [
        "from google.colab import drive\n",
        "drive.mount('/content/drive', force_remount = True)"
      ]
    },
    {
      "cell_type": "code",
      "execution_count": null,
      "metadata": {
        "id": "FG6RZpTyFh-G",
        "colab": {
          "base_uri": "https://localhost:8080/"
        },
        "outputId": "9ee48a9f-2593-4cb4-e2e5-19d06cf31f3f"
      },
      "outputs": [
        {
          "output_type": "stream",
          "name": "stdout",
          "text": [
            "/content/drive/MyDrive/GitHub/FL-project\n"
          ]
        }
      ],
      "source": [
        "%cd /content/drive/MyDrive/GitHub/FL-project"
      ]
    },
    {
      "cell_type": "code",
      "source": [
        "gpu_info = !nvidia-smi\n",
        "gpu_info = '\\n'.join(gpu_info)\n",
        "if gpu_info.find('failed') >= 0:\n",
        "  print('Not connected to a GPU')\n",
        "else:\n",
        "  print(gpu_info)"
      ],
      "metadata": {
        "id": "_Zv1fD49MhFv"
      },
      "execution_count": null,
      "outputs": []
    },
    {
      "cell_type": "code",
      "source": [
        "from psutil import virtual_memory\n",
        "ram_gb = virtual_memory().total / 1e9\n",
        "print('Your runtime has {:.1f} gigabytes of available RAM\\n'.format(ram_gb))\n",
        "\n",
        "if ram_gb < 20:\n",
        "  print('Not using a high-RAM runtime')\n",
        "else:\n",
        "  print('You are using a high-RAM runtime!')"
      ],
      "metadata": {
        "id": "7F6Qv_qZMltK"
      },
      "execution_count": null,
      "outputs": []
    },
    {
      "cell_type": "code",
      "source": [
        "!git init"
      ],
      "metadata": {
        "colab": {
          "base_uri": "https://localhost:8080/"
        },
        "id": "dK1Dz-cJGEKZ",
        "outputId": "3d7e3164-a288-4d9d-a9ab-9a0d62f68d76"
      },
      "execution_count": null,
      "outputs": [
        {
          "output_type": "stream",
          "name": "stdout",
          "text": [
            "Initialized empty Git repository in /content/.git/\n"
          ]
        }
      ]
    },
    {
      "cell_type": "code",
      "source": [
        "!git remote add origin https://github.com/Mattizza/FL-project"
      ],
      "metadata": {
        "id": "wpN2PtZuGY3F"
      },
      "execution_count": null,
      "outputs": []
    },
    {
      "cell_type": "code",
      "source": [
        "!git clone https://github.com/Mattizza/FL-project"
      ],
      "metadata": {
        "colab": {
          "base_uri": "https://localhost:8080/"
        },
        "id": "9xgs1HIaGcEX",
        "outputId": "7e01080e-c898-44d9-e718-be8611e697ff"
      },
      "execution_count": 1,
      "outputs": [
        {
          "output_type": "stream",
          "name": "stdout",
          "text": [
            "Cloning into 'FL-project'...\n",
            "remote: Enumerating objects: 1786, done.\u001b[K\n",
            "remote: Counting objects: 100% (98/98), done.\u001b[K\n",
            "remote: Compressing objects: 100% (73/73), done.\u001b[K\n",
            "remote: Total 1786 (delta 26), reused 88 (delta 21), pack-reused 1688\u001b[K\n",
            "Receiving objects: 100% (1786/1786), 509.58 MiB | 20.37 MiB/s, done.\n",
            "Resolving deltas: 100% (28/28), done.\n",
            "Updating files: 100% (1723/1723), done.\n"
          ]
        }
      ]
    },
    {
      "cell_type": "code",
      "source": [
        "%cd FL-project"
      ],
      "metadata": {
        "colab": {
          "base_uri": "https://localhost:8080/"
        },
        "id": "DCqm9RjVGw3V",
        "outputId": "2aa44f1b-8625-407e-a25b-76da4844039e"
      },
      "execution_count": 2,
      "outputs": [
        {
          "output_type": "stream",
          "name": "stdout",
          "text": [
            "/content/FL-project\n"
          ]
        }
      ]
    },
    {
      "cell_type": "code",
      "execution_count": 3,
      "metadata": {
        "id": "7evPysLnFm42"
      },
      "outputs": [],
      "source": [
        "from main import *\n",
        "import argparse\n",
        "from centralized import Centralized\n",
        "from client import *\n",
        "from torch import optim, nn\n",
        "from torch.optim import lr_scheduler\n",
        "import numpy as np"
      ]
    },
    {
      "cell_type": "code",
      "execution_count": 4,
      "metadata": {
        "id": "JFLsgsVvFvOj"
      },
      "outputs": [],
      "source": [
        "\n",
        "# Class used to simplify the assignment of the arguments.\n",
        "class Args():\n",
        "  \n",
        "  def __init__(self, dataset, model, bs, hnm, num_epochs):\n",
        "    '''\n",
        "    Class used to pass the-high level parameters\n",
        "      -) dataset   : the dataset we are considering;\n",
        "      -) model     : the model we are using;\n",
        "      -) bs        : the batch size;\n",
        "      -) num_epochs: number of epochs for which we will train the model.\n",
        "    '''\n",
        "    self.dataset = dataset    \n",
        "    self.model = model      \n",
        "    self.bs = bs             \n",
        "    self.hnm = hnm\n",
        "    self.num_epochs = num_epochs\n",
        "\n",
        "args = Args(dataset = 'iddaCB', model = 'deeplabv3_mobilenetv2', \n",
        "            bs = 16, hnm = False, num_epochs = 2)"
      ]
    },
    {
      "cell_type": "code",
      "execution_count": 5,
      "metadata": {
        "id": "oY5qaMQTF1VU"
      },
      "outputs": [],
      "source": [
        "\n",
        "# We get the dataset and we create an instance of the model.\n",
        "trainAloneDataset, testAloneDatasets = get_datasets(args)\n",
        "\n",
        "ds    = trainAloneDataset[0]\n",
        "model = model_init(args)\n"
      ]
    },
    {
      "cell_type": "code",
      "execution_count": 8,
      "metadata": {
        "id": "9TuuA3rDF5HI",
        "outputId": "1cea242e-e816-4a85-e419-98b895ae7fba",
        "colab": {
          "base_uri": "https://localhost:8080/",
          "height": 678
        }
      },
      "outputs": [
        {
          "output_type": "stream",
          "name": "stdout",
          "text": [
            "params freezed\n",
            "epoch 0\n",
            "epoch 1 / 2, step 10 / 37, loss = 0.187 ± 0.143\n",
            "epoch 1 / 2, step 20 / 37, loss = 0.195 ± 0.143\n",
            "epoch 1 / 2, step 30 / 37, loss = 0.183 ± 0.139\n",
            "epoch 1 / 2, step 37 / 37, loss = 0.217 ± 0.157\n",
            "epoch 1\n",
            "epoch 2 / 2, step 10 / 37, loss = 0.189 ± 0.139\n",
            "epoch 2 / 2, step 20 / 37, loss = 0.186 ± 0.148\n",
            "epoch 2 / 2, step 30 / 37, loss = 0.212 ± 0.153\n",
            "epoch 2 / 2, step 37 / 37, loss = 0.214 ± 0.156\n",
            "Finish training\n",
            "Model saved\n"
          ]
        },
        {
          "output_type": "display_data",
          "data": {
            "text/plain": [
              "<Figure size 640x480 with 1 Axes>"
            ],
            "image/png": "[encoded data removed]"
          },
          "metadata": {}
        }
      ],
      "source": [
        "\n",
        "# In order to simulate the behaviour of our model, we simulate a centralized\n",
        "# environment.\n",
        "centralized = Centralized(args,ds,model)\n",
        "state_dict  = torch.load('modelliSalvati/checkpoint.pth')\n",
        "model.classifier.load_state_dict(state_dict)\n",
        "\n",
        "# We pass to our centralized environment the optimization algorithm and the \n",
        "# rate decay technique. Finally, we train our model.\n",
        "\n",
        "opt_params = {'optimizer': {\n",
        "                            'name'    : 'Adam',\n",
        "                            'settings': {'lr'   : np.random.choice(np.linspace(0.001, 0.1, 10000))}\n",
        "                            },\n",
        "              'scheduler': {\n",
        "                            'name'    : 'ConstantLR',\n",
        "                            'settings': {'factor': 0.33}\n",
        "                            }\n",
        "              }\n",
        "\n",
        "centralized.set_opt(opt_params)\n",
        "centralized.train_2()\n",
        "centralized.print_learning(step = 10)\n"
      ]
    },
    {
      "cell_type": "code",
      "execution_count": null,
      "metadata": {
        "id": "Rb2-pv2hF6jU"
      },
      "outputs": [],
      "source": [
        "\n",
        "# We import the metrics used to compute the goodness of our model and we test\n",
        "# on our data.\n",
        "from utils.stream_metrics import StreamSegMetrics\n",
        "metric = StreamSegMetrics(16, 'centralizzato')\n",
        "centralized.test(metric)\n"
      ]
    },
    {
      "cell_type": "code",
      "execution_count": null,
      "metadata": {
        "id": "SbBTkIeyJtr5"
      },
      "outputs": [],
      "source": [
        "\n",
        "# Here we can choose what kind of metric to show. Possible choices are:\n",
        "#   -) Total samples    -) Mean IoU\n",
        "#   -) Overall Acc      -) Class IoU\n",
        "#   -) Mean Acc         -) Class Acc\n",
        "#   -) Mean Precision   -) Class Prec\n",
        "#   -) FreqW Acc \n",
        "\n",
        "metric.get_results()['Mean IoU']\n"
      ]
    },
    {
      "cell_type": "code",
      "execution_count": null,
      "metadata": {
        "id": "ybdxJD7OF722"
      },
      "outputs": [],
      "source": [
        "\n",
        "from torch.utils.data import DataLoader\n",
        "train_loader = DataLoader(ds, batch_size = 2, shuffle = False, drop_last = True)\n"
      ]
    },
    {
      "cell_type": "code",
      "execution_count": null,
      "metadata": {
        "id": "MJ8phbeEF-CU"
      },
      "outputs": [],
      "source": [
        "\n",
        "centralized.model.eval()\n",
        "with torch.no_grad():\n",
        "  for i, (images, labels) in enumerate(train_loader):\n",
        "    images = images.cuda() \n",
        "    labels = labels.cuda()\n",
        "    outputs = centralized.model(images)['out']\n",
        "    break\n"
      ]
    },
    {
      "cell_type": "code",
      "execution_count": null,
      "metadata": {
        "id": "li3aTKsqF_xc"
      },
      "outputs": [],
      "source": [
        "outputs = centralized.model(images[0].view(1, 3, 512, 928))['out']"
      ]
    },
    {
      "cell_type": "code",
      "execution_count": null,
      "metadata": {
        "id": "NlZTI0KvGAw6"
      },
      "outputs": [],
      "source": [
        "\n",
        "import matplotlib.pyplot as plt\n",
        "def unNormalize(tensorImage, mean=[0.485, 0.456, 0.406], std=[0.229, 0.224, 0.225]):\n",
        "        for t, m, s in zip(tensorImage, mean, std):\n",
        "            t.mul_(s).add_(m)\n",
        "        return tensorImage\n",
        "plt.imshow(unNormalize(images[0].cpu()).permute(1,2,0))\n"
      ]
    },
    {
      "cell_type": "code",
      "execution_count": null,
      "metadata": {
        "id": "IMV5icJeGm24"
      },
      "outputs": [],
      "source": [
        "\n",
        "singoloOutputLogits = outputs[0]\n",
        "prediction = singoloOutputLogits.argmax(0)\n"
      ]
    },
    {
      "cell_type": "code",
      "execution_count": null,
      "metadata": {
        "id": "6SgTKK3SGn00"
      },
      "outputs": [],
      "source": [
        "\n",
        "import matplotlib.pyplot as plt\n",
        "plt.imshow(unNormalize(images[0].cpu()).permute(1,2,0))\n",
        "plt.imshow(prediction.cpu().numpy(), alpha = 0.4)\n"
      ]
    },
    {
      "cell_type": "code",
      "execution_count": null,
      "metadata": {
        "id": "qf9jSCv3LaIc"
      },
      "outputs": [],
      "source": [
        "\n",
        "import matplotlib as mpl\n",
        "\n",
        "plt.imshow(labels[0].cpu().numpy(), cmap = mpl.colormaps['inferno'], vmin = 0, vmax = 16)\n"
      ]
    }
  ],
  "metadata": {
    "accelerator": "GPU",
    "colab": {
      "provenance": []
    },
    "gpuClass": "standard",
    "kernelspec": {
      "display_name": "Python 3",
      "name": "python3"
    },
    "language_info": {
      "name": "python"
    }
  },
  "nbformat": 4,
  "nbformat_minor": 0
}